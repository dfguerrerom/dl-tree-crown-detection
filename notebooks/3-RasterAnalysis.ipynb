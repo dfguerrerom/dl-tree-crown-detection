{
 "cells": [
  {
   "cell_type": "code",
   "execution_count": null,
   "metadata": {},
   "outputs": [],
   "source": [
    "import rasterio as rio\n",
    "from tensorflow.keras.models import load_model\n",
    "from core.optimizers import adaDelta\n",
    "from core.losses import (\n",
    "    tversky,\n",
    "    accuracy,\n",
    "    dice_coef,\n",
    "    dice_loss,\n",
    "    specificity,\n",
    "    sensitivity,\n",
    ")"
   ]
  },
  {
   "cell_type": "code",
   "execution_count": null,
   "metadata": {},
   "outputs": [],
   "source": [
    "from importlib import reload\n",
    "from config import RasterAnalysis as config\n",
    "import scripts.raster_analysis as ras\n",
    "\n",
    "ras = reload(ras)\n",
    "config = reload(config)\n",
    "config = config.Configuration()"
   ]
  },
  {
   "cell_type": "code",
   "execution_count": null,
   "metadata": {},
   "outputs": [],
   "source": [
    "# Load a pretrained model\n",
    "OPTIMIZER = adaDelta\n",
    "\n",
    "# Get the last model\n",
    "model_path = list(config.model_path.glob(\"*.h5\"))[-1]\n",
    "model = load_model(\n",
    "    model_path,\n",
    "    custom_objects={\n",
    "        \"tversky\": tversky,\n",
    "        \"dice_coef\": dice_coef,\n",
    "        \"dice_loss\": dice_loss,\n",
    "        \"accuracy\": accuracy,\n",
    "        \"specificity\": specificity,\n",
    "        \"sensitivity\": sensitivity,\n",
    "    },\n",
    "    compile=False,\n",
    ")\n",
    "model.compile(\n",
    "    optimizer=OPTIMIZER,\n",
    "    loss=tversky,\n",
    "    metrics=[dice_coef, dice_loss, accuracy, specificity, sensitivity],\n",
    ")"
   ]
  },
  {
   "cell_type": "code",
   "execution_count": null,
   "metadata": {},
   "outputs": [],
   "source": [
    "# Predict trees in the all the files in the input image dir\n",
    "# Depending upon the available RAM, images may not to be split before running this cell.\n",
    "# Use the Auxiliary-2-SplitRasterToAnalyse if the images are too big to be analysed in memory.\n",
    "all_files = list(config.input_image_dir.glob(f\"*{config.input_image_type}\"))\n",
    "all_files;"
   ]
  },
  {
   "cell_type": "code",
   "execution_count": null,
   "metadata": {},
   "outputs": [],
   "source": [
    "for image_path in all_files:\n",
    "    \n",
    "    output_file = config.output_dir/image_path.name\n",
    "    \n",
    "    with rio.open(image_path) as img:\n",
    "        \n",
    "        detectedMask, detectedMeta = ras.detect_tree(\n",
    "            model,\n",
    "            img,\n",
    "            width=config.WIDTH,\n",
    "            height=config.HEIGHT,\n",
    "            stride=config.STRIDE,\n",
    "        ) \n",
    "        \n",
    "        break\n",
    "        # WIDTH and HEIGHT should be the same and in this case Stride is 50 % width\n",
    "        # Write the mask to file\n",
    "        # ras.writeMaskToDisk(\n",
    "        #     detectedMask,\n",
    "        #     detectedMeta,\n",
    "        #     outputFile,\n",
    "        #     write_as_type=config.output_dtype,\n",
    "        #     th=0.5,\n",
    "        #     create_countors=False,\n",
    "        # )"
   ]
  },
  {
   "cell_type": "code",
   "execution_count": null,
   "metadata": {},
   "outputs": [],
   "source": [
    "# Display extracted image\n",
    "sampleImage = \"\"\n",
    "fn = os.path.join(config.output_dir, config.output_prefix + sampleImage)\n",
    "predicted_img = rasterio.open(fn)\n",
    "p = predicted_img.read()\n",
    "np.unique(p, return_counts=True)\n",
    "plt.imshow(p[0])"
   ]
  }
 ],
 "metadata": {
  "kernelspec": {
   "display_name": "Python 3",
   "language": "python",
   "name": "python3"
  },
  "language_info": {
   "codemirror_mode": {
    "name": "ipython",
    "version": 3
   },
   "file_extension": ".py",
   "mimetype": "text/x-python",
   "name": "python",
   "nbconvert_exporter": "python",
   "pygments_lexer": "ipython3",
   "version": "3.8.10"
  }
 },
 "nbformat": 4,
 "nbformat_minor": 4
}
