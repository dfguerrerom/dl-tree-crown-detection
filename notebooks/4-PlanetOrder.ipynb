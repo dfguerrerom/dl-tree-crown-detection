{
 "cells": [
  {
   "cell_type": "markdown",
   "metadata": {},
   "source": [
    "This notebook is used to download previously search planet images"
   ]
  },
  {
   "cell_type": "code",
   "execution_count": null,
   "metadata": {},
   "outputs": [],
   "source": [
    "import backoff\n",
    "import os\n",
    "from pathlib import Path\n",
    "import requests\n",
    "from tqdm.auto import tqdm\n",
    "from planet import api as planet_api\n",
    "from time import sleep\n",
    "\n",
    "from shapely.geometry import shape\n",
    "from shapely_geojson import dumps\n",
    "import geopandas as gpd\n",
    "import pandas as pd\n",
    "import json"
   ]
  },
  {
   "cell_type": "code",
   "execution_count": null,
   "metadata": {},
   "outputs": [],
   "source": [
    "# Set session auth\n",
    "PLANET_API_KEY = os.getenv(\"PLANET_API_KEY\")\n",
    "session = requests.Session()\n",
    "session.auth = requests.auth.HTTPBasicAuth(PLANET_API_KEY, '')\n",
    "session.headers.update({'Content-Type': 'application/json; charset=utf-8', 'Accept': 'application/json'})\n",
    "\n",
    "# Set connection urls\n",
    "orders_url = 'https://api.planet.com/compute/ops/orders/v2'"
   ]
  },
  {
   "cell_type": "code",
   "execution_count": null,
   "metadata": {},
   "outputs": [],
   "source": [
    "ids_path = Path(\"0_west_afk/1802_ids.txt\")\n",
    "with open(ids_path) as f:\n",
    "    item_ids = [l.strip() for l in f.read().split(\",\")]\n",
    "    # item_ids = [line.replace(\"\\n\",\"\") for line in f]"
   ]
  },
  {
   "cell_type": "code",
   "execution_count": null,
   "metadata": {},
   "outputs": [],
   "source": [
    "fishnet = gpd.GeoDataFrame.from_file(\"0_west_afk/shp/aoi_fishnet.shp\")\n",
    "fishnet;"
   ]
  },
  {
   "cell_type": "code",
   "execution_count": null,
   "metadata": {},
   "outputs": [],
   "source": [
    "# This dataframe was created by using some geoprocessings in QGIS\n",
    "# To be sure the entire area was fully covered by images.\n",
    "all_images_path = \"0_west_afk/shp/all_foot_images.shp\"\n",
    "all_images_gdf = gpd.GeoDataFrame.from_file(all_images_path)\n",
    "images_ids = all_images_gdf.id.unique()"
   ]
  },
  {
   "cell_type": "code",
   "execution_count": null,
   "metadata": {},
   "outputs": [],
   "source": [
    "def extract_geometry(item_id):\n",
    "    \"\"\"Creates a geodataframe containing image id and its geometries\"\"\"\n",
    "    \n",
    "    url=f\"https://api.planet.com/data/v1/item-types/PSScene/items/{item_id}\"\n",
    "    response = requests.get(url, auth=session.auth)\n",
    "    json = response.json()\n",
    "    \n",
    "    return {\n",
    "        \"id\":json[\"id\"], \n",
    "        \"date\":json[\"properties\"][\"acquired\"],\n",
    "        \"geometry\": shape(json[\"geometry\"])\n",
    "    }\n",
    "\n",
    "image_geometries = [extract_geometry(item_id) for item_id in images_ids]"
   ]
  },
  {
   "cell_type": "code",
   "execution_count": null,
   "metadata": {},
   "outputs": [],
   "source": [
    "image_gdf = gpd.GeoDataFrame(image_geometries)"
   ]
  },
  {
   "cell_type": "code",
   "execution_count": null,
   "metadata": {},
   "outputs": [],
   "source": [
    "image_gdf[\"date\"]=pd.to_datetime(image_gdf[\"date\"]) "
   ]
  },
  {
   "cell_type": "code",
   "execution_count": null,
   "metadata": {},
   "outputs": [],
   "source": [
    "main_date = image_gdf.date.dt.strftime('%d-%m-%y').unique()[0]\n",
    "image_gdf[\"date\"]=image_gdf.date.dt.strftime('%d-%m-%y')\n",
    "# image_gdf.to_file(f\"0_west_afk/shp/images_geometry_{main_date}.shp\", driver=\"ESRI Shapefile\")\n",
    "main_date"
   ]
  },
  {
   "cell_type": "markdown",
   "metadata": {},
   "source": [
    "## Get all images associated to each grid "
   ]
  },
  {
   "cell_type": "code",
   "execution_count": null,
   "metadata": {},
   "outputs": [],
   "source": [
    "\n",
    "fishnet;\n",
    "all_images_gdf;"
   ]
  },
  {
   "cell_type": "code",
   "execution_count": null,
   "metadata": {},
   "outputs": [],
   "source": [
    "\"\"\"Creates a dictionary with grid_id associated with planet id images\"\"\"\n",
    "\n",
    "images_by_grid = {}\n",
    "\n",
    "for idx, grid in fishnet.iterrows():\n",
    "    \n",
    "    images_by_grid[idx] = []\n",
    "    \n",
    "    for _, img in all_images_gdf.iterrows():\n",
    "\n",
    "        if grid.geometry.intersects(img.geometry):\n",
    "\n",
    "            images_by_grid[idx].append(img.id)"
   ]
  },
  {
   "cell_type": "code",
   "execution_count": null,
   "metadata": {},
   "outputs": [],
   "source": [
    "images_by_grid[0]"
   ]
  },
  {
   "cell_type": "code",
   "execution_count": null,
   "metadata": {
    "tags": []
   },
   "outputs": [],
   "source": [
    "@backoff.on_exception(\n",
    "    backoff.expo,\n",
    "    (planet_api.exceptions.OverQuota, planet_api.exceptions.TooManyRequests),\n",
    "    max_time=360\n",
    ")\n",
    "def post_order(grid_id):\n",
    "    \n",
    "\n",
    "    order_request = {\n",
    "        \"name\": str(grid_id),\n",
    "        \"order_type\": \"partial\",\n",
    "        \"products\": [\n",
    "            {\n",
    "                \"item_type\": \"PSScene\",\n",
    "                \"item_ids\": images_by_grid[grid_id],\n",
    "                \"product_bundle\": \"analytic_8b_sr_udm2\"\n",
    "            }\n",
    "        ],\n",
    "        \"tools\": [\n",
    "            {\"clip\": {\"aoi\": json.loads(dumps(fishnet.iloc[grid_id].geometry))}},\n",
    "        ],\n",
    "        \"delivery\": {\n",
    "            \"google_earth_engine\": {\n",
    "                \"project\": \"planet-afk\",\n",
    "                \"collection\": \"afk_treecount\"\n",
    "            }\n",
    "        },\n",
    "        \"notifications\": {\"email\": True},\n",
    "    }\n",
    "    \n",
    "    # Send order to server\n",
    "    return requests.post(\n",
    "        orders_url, \n",
    "        data=json.dumps(order_request), \n",
    "        auth=session.auth, \n",
    "        headers=session.headers\n",
    "    )\n",
    "    "
   ]
  },
  {
   "cell_type": "code",
   "execution_count": null,
   "metadata": {},
   "outputs": [],
   "source": [
    "responses = {}\n",
    "for grid_id in tqdm(images_by_grid):\n",
    "    if grid_id<=10: continue\n",
    "    responses[grid_id] = post_order(grid_id)\n",
    "    print(grid_id)\n",
    "    sleep(1)"
   ]
  }
 ],
 "metadata": {
  "kernelspec": {
   "display_name": "Python 3",
   "language": "python",
   "name": "python3"
  },
  "language_info": {
   "codemirror_mode": {
    "name": "ipython",
    "version": 3
   },
   "file_extension": ".py",
   "mimetype": "text/x-python",
   "name": "python",
   "nbconvert_exporter": "python",
   "pygments_lexer": "ipython3",
   "version": "3.8.10"
  }
 },
 "nbformat": 4,
 "nbformat_minor": 4
}
