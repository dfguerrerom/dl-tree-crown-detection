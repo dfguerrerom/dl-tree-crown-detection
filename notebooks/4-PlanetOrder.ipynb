{
 "cells": [
  {
   "cell_type": "markdown",
   "metadata": {},
   "source": [
    "## 1. Order images\n",
    "\n",
    "After manually check the area of interest in planet explorer, a list containing all the item ids was created and stored in training_afk/0_aoi/1802_ids.txt file. \n",
    "\n",
    "By using a grid of 0.1x0.1 degrees and compared with the image ids, an order will be created with a clip tool and will be served in GEE."
   ]
  },
  {
   "cell_type": "code",
   "execution_count": null,
   "metadata": {},
   "outputs": [],
   "source": [
    "import backoff\n",
    "import os\n",
    "from pathlib import Path\n",
    "import requests\n",
    "from tqdm.auto import tqdm\n",
    "from planet import api as planet_api\n",
    "from time import sleep\n",
    "\n",
    "from shapely.geometry import shape\n",
    "from shapely_geojson import dumps\n",
    "import geopandas as gpd\n",
    "import pandas as pd\n",
    "import json"
   ]
  },
  {
   "cell_type": "code",
   "execution_count": null,
   "metadata": {},
   "outputs": [],
   "source": [
    "# Set session auth\n",
    "PLANET_API_KEY = os.getenv(\"PLANET_API_KEY\")\n",
    "session = requests.Session()\n",
    "session.auth = requests.auth.HTTPBasicAuth(PLANET_API_KEY, '')\n",
    "session.headers.update({'Content-Type': 'application/json; charset=utf-8', 'Accept': 'application/json'})\n",
    "\n",
    "# Set connection urls\n",
    "orders_url = 'https://api.planet.com/compute/ops/orders/v2'"
   ]
  },
  {
   "cell_type": "code",
   "execution_count": null,
   "metadata": {},
   "outputs": [],
   "source": [
    "ids_path = Path(\"training_afk/0_aoi/1802_ids.txt\")\n",
    "with open(ids_path) as f:\n",
    "    item_ids = [l.strip() for l in f.read().split(\",\")]\n",
    "    # item_ids = [line.replace(\"\\n\",\"\") for line in f]"
   ]
  },
  {
   "cell_type": "code",
   "execution_count": null,
   "metadata": {},
   "outputs": [],
   "source": [
    "fishnet = gpd.GeoDataFrame.from_file(\"training_afk/0_aoi/shp/aoi_fishnet.shp\")\n",
    "fishnet;"
   ]
  },
  {
   "cell_type": "code",
   "execution_count": null,
   "metadata": {},
   "outputs": [],
   "source": [
    "# This dataframe was created by using some geoprocessings in QGIS\n",
    "# To be sure the entire area was fully covered by images.\n",
    "all_images_path = \"training_afk/0_aoi/shp/all_foot_images.shp\"\n",
    "all_images_gdf = gpd.GeoDataFrame.from_file(all_images_path)\n",
    "images_ids = all_images_gdf.id.unique()"
   ]
  },
  {
   "cell_type": "code",
   "execution_count": null,
   "metadata": {},
   "outputs": [],
   "source": [
    "def extract_geometry(item_id):\n",
    "    \"\"\"Creates a geodataframe containing image id and its geometries (footprint)\"\"\"\n",
    "    \n",
    "    url=f\"https://api.planet.com/data/v1/item-types/PSScene/items/{item_id}\"\n",
    "    response = requests.get(url, auth=session.auth)\n",
    "    json = response.json()\n",
    "    \n",
    "    return {\n",
    "        \"id\":json[\"id\"], \n",
    "        \"date\":json[\"properties\"][\"acquired\"],\n",
    "        \"geometry\": shape(json[\"geometry\"])\n",
    "    }\n",
    "\n",
    "image_geometries = [extract_geometry(item_id) for item_id in images_ids]"
   ]
  },
  {
   "cell_type": "code",
   "execution_count": null,
   "metadata": {},
   "outputs": [],
   "source": [
    "image_gdf = gpd.GeoDataFrame(image_geometries)"
   ]
  },
  {
   "cell_type": "code",
   "execution_count": null,
   "metadata": {},
   "outputs": [],
   "source": [
    "image_gdf[\"date\"]=pd.to_datetime(image_gdf[\"date\"]) "
   ]
  },
  {
   "cell_type": "code",
   "execution_count": null,
   "metadata": {},
   "outputs": [],
   "source": [
    "main_date = image_gdf.date.dt.strftime('%d-%m-%y').unique()[0]\n",
    "image_gdf[\"date\"]=image_gdf.date.dt.strftime('%d-%m-%y')\n",
    "# image_gdf.to_file(f\"0_west_afk/shp/images_geometry_{main_date}.shp\", driver=\"ESRI Shapefile\")\n",
    "main_date"
   ]
  },
  {
   "cell_type": "markdown",
   "metadata": {},
   "source": [
    "### 1.1 Get all images associated to each grid "
   ]
  },
  {
   "cell_type": "code",
   "execution_count": null,
   "metadata": {},
   "outputs": [],
   "source": [
    "fishnet;\n",
    "all_images_gdf;"
   ]
  },
  {
   "cell_type": "code",
   "execution_count": null,
   "metadata": {},
   "outputs": [],
   "source": [
    "\"\"\"Creates a dictionary with grid_id associated with planet id images\"\"\"\n",
    "\n",
    "images_by_grid = {}\n",
    "\n",
    "for idx, grid in fishnet.iterrows():\n",
    "    \n",
    "    images_by_grid[idx] = []\n",
    "    \n",
    "    for _, img in all_images_gdf.iterrows():\n",
    "\n",
    "        if grid.geometry.intersects(img.geometry):\n",
    "\n",
    "            images_by_grid[idx].append(img.id)"
   ]
  },
  {
   "cell_type": "code",
   "execution_count": null,
   "metadata": {
    "tags": []
   },
   "outputs": [],
   "source": [
    "@backoff.on_exception(\n",
    "    backoff.expo,\n",
    "    (planet_api.exceptions.OverQuota, planet_api.exceptions.TooManyRequests),\n",
    "    max_time=360\n",
    ")\n",
    "def post_order(grid_id):\n",
    "    \n",
    "\n",
    "    order_request = {\n",
    "        \"name\": str(grid_id),\n",
    "        \"order_type\": \"partial\",\n",
    "        \"products\": [\n",
    "            {\n",
    "                \"item_type\": \"PSScene\",\n",
    "                \"item_ids\": images_by_grid[grid_id],\n",
    "                \"product_bundle\": \"analytic_8b_sr_udm2\"\n",
    "            }\n",
    "        ],\n",
    "        \"tools\": [\n",
    "            {\"clip\": {\"aoi\": json.loads(dumps(fishnet.iloc[grid_id].geometry))}},\n",
    "        ],\n",
    "        \"delivery\": {\n",
    "            \"google_earth_engine\": {\n",
    "                \"project\": \"planet-afk\",\n",
    "                \"collection\": \"afk_treecount\"\n",
    "            }\n",
    "        },\n",
    "        \"notifications\": {\"email\": True},\n",
    "    }\n",
    "    return order_request\n",
    "    # Send order to server\n",
    "    return requests.post(\n",
    "        orders_url, \n",
    "        data=json.dumps(order_request), \n",
    "        auth=session.auth, \n",
    "        headers=session.headers\n",
    "    )\n",
    "    "
   ]
  },
  {
   "cell_type": "code",
   "execution_count": null,
   "metadata": {
    "tags": []
   },
   "outputs": [],
   "source": [
    "responses = {}\n",
    "for grid_id in tqdm(images_by_grid):\n",
    "    if grid_id<=10: continue\n",
    "    responses[grid_id] = post_order(grid_id)\n",
    "    print(grid_id)\n",
    "    sleep(1)"
   ]
  },
  {
   "cell_type": "markdown",
   "metadata": {},
   "source": [
    "## 2. Create a random sample"
   ]
  },
  {
   "cell_type": "code",
   "execution_count": null,
   "metadata": {},
   "outputs": [],
   "source": [
    "planet_collection = ee.ImageCollection(\"projects/planet-afk/assets/afk_treecount\")\n",
    "ee_fishnet = ee.FeatureCollection(\"projects/planet-afk/assets/aoi_fishnet\")"
   ]
  },
  {
   "cell_type": "code",
   "execution_count": null,
   "metadata": {},
   "outputs": [],
   "source": [
    "# Based on https://medium.com/google-earth/random-samples-with-buffering-6c8737384f8c\n",
    "\n",
    "cellSize = 5000\n",
    "seed = 1\n",
    "crs = planet_collection.first().projection().getInfo()[\"crs\"]\n",
    "\n",
    "# Generate a random image of integers projected crs\n",
    "proj = ee.Projection(crs).atScale(cellSize)\n",
    "cells = ee.Image.random(seed).multiply(1000000).int().clip(fishnet).reproject(proj)\n",
    "\n",
    "# Generate another random image and select the maximum random value \n",
    "# in each grid cell as the sample point.\n",
    "\n",
    "random = ee.Image.random(seed).multiply(1000000).int()\n",
    "maximum = cells.addBands(random).reduceConnectedComponents(ee.Reducer.max())\n",
    "  \n",
    "# Find all the points that are local maximums.\n",
    "points = random.eq(maximum).selfMask().clip(fishnet).reproject(proj.scale(1/8, 1/8))\n",
    "    \n",
    "samples = points.reduceToVectors(**{\n",
    "  \"reducer\": ee.Reducer.countEvery(), \n",
    "  \"geometry\": fishnet,\n",
    "  \"crs\": proj.scale(1/8, 1/8), \n",
    "  \"geometryType\": \"centroid\", \n",
    "  \"maxPixels\": 1e9\n",
    "})\n",
    "\n",
    "# Add a buffer around each point that is the requested spacing size for visualization.\n",
    "buffer = samples.map(lambda x: f.buffer(ee.Number(300)).bounds())\n",
    "\n",
    "\n",
    "# Random sample\n",
    "random_sample = ee.FeatureCollection(\n",
    "    buffer.toList(buffer.size()).shuffle(6).slice(0,100)\n",
    ")\n",
    "  \n",
    "task = ee.batch.export.table.toAsset(random_sample, \"afk_random_areas\", \"afk_random_areas\")\n",
    "task.start()"
   ]
  },
  {
   "cell_type": "markdown",
   "metadata": {
    "tags": []
   },
   "source": [
    "## 3. Export images to drive"
   ]
  },
  {
   "cell_type": "code",
   "execution_count": null,
   "metadata": {},
   "outputs": [],
   "source": [
    "import ee\n",
    "ee.Initialize()"
   ]
  },
  {
   "cell_type": "code",
   "execution_count": null,
   "metadata": {},
   "outputs": [],
   "source": [
    "planet_collection = ee.ImageCollection(\"projects/planet-afk/assets/afk_treecount\")\n",
    "ee_fishnet = ee.FeatureCollection(\"projects/planet-afk/assets/afk_random_areas\")"
   ]
  },
  {
   "cell_type": "code",
   "execution_count": null,
   "metadata": {},
   "outputs": [],
   "source": [
    "mosaic = planet_collection.mosaic()\n",
    "band_names = mosaic.bandNames().slice(0,8)\n",
    "composite = planet_collection.select(band_names).mean()"
   ]
  },
  {
   "cell_type": "code",
   "execution_count": null,
   "metadata": {},
   "outputs": [],
   "source": [
    "n = ee_fishnet.size().getInfo()\n",
    "n"
   ]
  },
  {
   "cell_type": "code",
   "execution_count": null,
   "metadata": {},
   "outputs": [],
   "source": [
    "tasks = []\n",
    "for patch_id in range(n):\n",
    "    \n",
    "    region = ee_fishnet.filter(ee.Filter.eq(\"id\", patch_id))\n",
    "    \n",
    "    task = ee.batch.Export.image.toDrive(**{\n",
    "        \"image\":composite, \n",
    "        \"description\":f\"afk_mean_composite_area{patch_id}\", \n",
    "        \"folder\":\"planet_afk/random_areas\",\n",
    "        \"scale\": 3,\n",
    "        \"crs\": \"EPSG:4326\",\n",
    "        \"region\": region.geometry(),\n",
    "        \"maxPixels\":1e13\n",
    "    })\n",
    "    task.start()\n",
    "    tasks.append(task)"
   ]
  },
  {
   "cell_type": "code",
   "execution_count": null,
   "metadata": {},
   "outputs": [],
   "source": [
    "# [tasks[i].start() for i, task in enumerate(tasks) ]"
   ]
  },
  {
   "cell_type": "code",
   "execution_count": null,
   "metadata": {},
   "outputs": [],
   "source": [
    "import rasterio as rio\n",
    "from pathlib import Path\n",
    "import geopandas as gpd\n",
    "from shapely.geometry import box\n",
    "import rasterio.mask"
   ]
  },
  {
   "cell_type": "code",
   "execution_count": null,
   "metadata": {},
   "outputs": [],
   "source": [
    "image = Path.home()/\"1_modules/3_WADL/notebooks/training_afk/0_raw/annotation/aduna_crowns_rfclass_0_1.tif\"\n",
    "fishnet = gpd.GeoDataFrame.from_file(\"training_afk/0_aoi/shp/aoi_fishnet.shp\")"
   ]
  },
  {
   "cell_type": "code",
   "execution_count": null,
   "metadata": {},
   "outputs": [],
   "source": [
    "id_ = 5\n",
    "aoi = fishnet[fishnet.id==id_]\n",
    "bbox = box(*aoi.iloc[[0]].total_bounds)"
   ]
  },
  {
   "cell_type": "code",
   "execution_count": null,
   "metadata": {},
   "outputs": [],
   "source": [
    "rio_image = rio.open(image)\n",
    "profile = rio_image.profile"
   ]
  },
  {
   "cell_type": "code",
   "execution_count": null,
   "metadata": {},
   "outputs": [],
   "source": [
    "sm = rio.mask.mask(rio_image, [bbox], all_touched=True, crop=True)"
   ]
  },
  {
   "cell_type": "code",
   "execution_count": null,
   "metadata": {},
   "outputs": [],
   "source": [
    "profile[\"height\"] = sm[0].shape[1]\n",
    "profile[\"width\"] = sm[0].shape[2]\n",
    "profile[\"transform\"] = sm[1]\n",
    "profile[\"count\"] = 1"
   ]
  },
  {
   "cell_type": "code",
   "execution_count": null,
   "metadata": {},
   "outputs": [],
   "source": [
    "with rio.open(image.with_name(f\"patch_{id_}\").with_suffix(\".tif\"), \"w\", **profile) as dst:\n",
    "    dst.write(sm[0][0], 1)"
   ]
  }
 ],
 "metadata": {
  "kernelspec": {
   "display_name": "Python 3",
   "language": "python",
   "name": "python3"
  },
  "language_info": {
   "codemirror_mode": {
    "name": "ipython",
    "version": 3
   },
   "file_extension": ".py",
   "mimetype": "text/x-python",
   "name": "python",
   "nbconvert_exporter": "python",
   "pygments_lexer": "ipython3",
   "version": "3.8.10"
  }
 },
 "nbformat": 4,
 "nbformat_minor": 4
}
