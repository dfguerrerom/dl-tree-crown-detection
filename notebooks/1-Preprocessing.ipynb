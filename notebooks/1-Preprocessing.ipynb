{
 "cells": [
  {
   "cell_type": "code",
   "execution_count": 1,
   "metadata": {},
   "outputs": [
    {
     "name": "stdout",
     "output_type": "stream",
     "text": [
      "Warning: path_to_write is not empty! The old files in the directory may not be overwritten!!\n",
      "Warning: path_to_write is not empty! The old files in the directory may not be overwritten!!\n"
     ]
    }
   ],
   "source": [
    "from importlib import reload\n",
    "import geopandas as gpd\n",
    "\n",
    "from scripts import preprocessing as pre\n",
    "\n",
    "from config import Preprocessing\n",
    "config = reload(Preprocessing).Configuration()"
   ]
  },
  {
   "cell_type": "code",
   "execution_count": 2,
   "metadata": {},
   "outputs": [
    {
     "name": "stdout",
     "output_type": "stream",
     "text": [
      "Read a total of 690 object polygons and {trainingArea.shape[0]} training areas.\n",
      "Polygons will be assigned to training areas in the next steps.\n"
     ]
    }
   ],
   "source": [
    "# Read the training area and training polygons\n",
    "trainingArea = gpd.read_file(config.training_base_dir/config.training_area_fn)\n",
    "trainingPolygon = gpd.read_file(config.training_base_dir/config.training_polygon_fn)\n",
    "\n",
    "print(\n",
    "    f\"Read a total of {trainingPolygon.shape[0]} object polygons and \"\n",
    "    \"{trainingArea.shape[0]} training areas.\"\n",
    ")\n",
    "print(f\"Polygons will be assigned to training areas in the next steps.\")"
   ]
  },
  {
   "cell_type": "code",
   "execution_count": 3,
   "metadata": {},
   "outputs": [
    {
     "name": "stdout",
     "output_type": "stream",
     "text": [
      "epsg:32629\n",
      "epsg:32629\n"
     ]
    }
   ],
   "source": [
    "# Check if the training areas and the training polygons have the same crs\n",
    "if trainingArea.crs != trainingPolygon.crs:\n",
    "    print(\"Training area CRS does not match training_polygon CRS\")\n",
    "    # Areas are less in number so conversion should be faster\n",
    "    targetCRS = trainingPolygon.crs  \n",
    "    trainingArea = trainingArea.to_crs(targetCRS)\n",
    "    \n",
    "print(trainingPolygon.crs)\n",
    "print(trainingArea.crs)\n",
    "assert trainingPolygon.crs == trainingArea.crs"
   ]
  },
  {
   "cell_type": "code",
   "execution_count": 4,
   "metadata": {},
   "outputs": [
    {
     "data": {
      "text/html": [
       "<div>\n",
       "<style scoped>\n",
       "    .dataframe tbody tr th:only-of-type {\n",
       "        vertical-align: middle;\n",
       "    }\n",
       "\n",
       "    .dataframe tbody tr th {\n",
       "        vertical-align: top;\n",
       "    }\n",
       "\n",
       "    .dataframe thead th {\n",
       "        text-align: right;\n",
       "    }\n",
       "</style>\n",
       "<table border=\"1\" class=\"dataframe\">\n",
       "  <thead>\n",
       "    <tr style=\"text-align: right;\">\n",
       "      <th></th>\n",
       "      <th>Id</th>\n",
       "      <th>geometry</th>\n",
       "    </tr>\n",
       "  </thead>\n",
       "  <tbody>\n",
       "    <tr>\n",
       "      <th>0</th>\n",
       "      <td>0</td>\n",
       "      <td>POLYGON ((802643.808 1326481.218, 802643.802 1...</td>\n",
       "    </tr>\n",
       "    <tr>\n",
       "      <th>1</th>\n",
       "      <td>0</td>\n",
       "      <td>POLYGON ((802672.328 1326510.973, 802672.325 1...</td>\n",
       "    </tr>\n",
       "    <tr>\n",
       "      <th>2</th>\n",
       "      <td>0</td>\n",
       "      <td>POLYGON ((802691.866 1326500.160, 802697.368 1...</td>\n",
       "    </tr>\n",
       "    <tr>\n",
       "      <th>3</th>\n",
       "      <td>0</td>\n",
       "      <td>POLYGON ((802686.182 1326485.855, 802689.112 1...</td>\n",
       "    </tr>\n",
       "    <tr>\n",
       "      <th>4</th>\n",
       "      <td>0</td>\n",
       "      <td>POLYGON ((802684.196 1326457.986, 802687.715 1...</td>\n",
       "    </tr>\n",
       "    <tr>\n",
       "      <th>...</th>\n",
       "      <td>...</td>\n",
       "      <td>...</td>\n",
       "    </tr>\n",
       "    <tr>\n",
       "      <th>685</th>\n",
       "      <td>0</td>\n",
       "      <td>POLYGON ((797190.205 1330123.505, 797190.513 1...</td>\n",
       "    </tr>\n",
       "    <tr>\n",
       "      <th>686</th>\n",
       "      <td>0</td>\n",
       "      <td>POLYGON ((797362.781 1330210.071, 797368.717 1...</td>\n",
       "    </tr>\n",
       "    <tr>\n",
       "      <th>687</th>\n",
       "      <td>0</td>\n",
       "      <td>POLYGON ((797461.167 1330130.547, 797468.355 1...</td>\n",
       "    </tr>\n",
       "    <tr>\n",
       "      <th>688</th>\n",
       "      <td>0</td>\n",
       "      <td>POLYGON ((797475.533 1330154.933, 797488.583 1...</td>\n",
       "    </tr>\n",
       "    <tr>\n",
       "      <th>689</th>\n",
       "      <td>0</td>\n",
       "      <td>POLYGON ((797490.975 1330227.507, 797499.434 1...</td>\n",
       "    </tr>\n",
       "  </tbody>\n",
       "</table>\n",
       "<p>690 rows × 2 columns</p>\n",
       "</div>"
      ],
      "text/plain": [
       "     Id                                           geometry\n",
       "0     0  POLYGON ((802643.808 1326481.218, 802643.802 1...\n",
       "1     0  POLYGON ((802672.328 1326510.973, 802672.325 1...\n",
       "2     0  POLYGON ((802691.866 1326500.160, 802697.368 1...\n",
       "3     0  POLYGON ((802686.182 1326485.855, 802689.112 1...\n",
       "4     0  POLYGON ((802684.196 1326457.986, 802687.715 1...\n",
       "..   ..                                                ...\n",
       "685   0  POLYGON ((797190.205 1330123.505, 797190.513 1...\n",
       "686   0  POLYGON ((797362.781 1330210.071, 797368.717 1...\n",
       "687   0  POLYGON ((797461.167 1330130.547, 797468.355 1...\n",
       "688   0  POLYGON ((797475.533 1330154.933, 797488.583 1...\n",
       "689   0  POLYGON ((797490.975 1330227.507, 797499.434 1...\n",
       "\n",
       "[690 rows x 2 columns]"
      ]
     },
     "execution_count": 4,
     "metadata": {},
     "output_type": "execute_result"
    }
   ],
   "source": [
    "trainingPolygon"
   ]
  },
  {
   "cell_type": "code",
   "execution_count": 5,
   "metadata": {},
   "outputs": [
    {
     "data": {
      "text/html": [
       "<div>\n",
       "<style scoped>\n",
       "    .dataframe tbody tr th:only-of-type {\n",
       "        vertical-align: middle;\n",
       "    }\n",
       "\n",
       "    .dataframe tbody tr th {\n",
       "        vertical-align: top;\n",
       "    }\n",
       "\n",
       "    .dataframe thead th {\n",
       "        text-align: right;\n",
       "    }\n",
       "</style>\n",
       "<table border=\"1\" class=\"dataframe\">\n",
       "  <thead>\n",
       "    <tr style=\"text-align: right;\">\n",
       "      <th></th>\n",
       "      <th>OBJECTID</th>\n",
       "      <th>CID</th>\n",
       "      <th>BUFF_DIST</th>\n",
       "      <th>ORIG_FID</th>\n",
       "      <th>Shape_Leng</th>\n",
       "      <th>Shape_Area</th>\n",
       "      <th>geometry</th>\n",
       "    </tr>\n",
       "  </thead>\n",
       "  <tbody>\n",
       "    <tr>\n",
       "      <th>0</th>\n",
       "      <td>1</td>\n",
       "      <td>0</td>\n",
       "      <td>1000.0</td>\n",
       "      <td>1</td>\n",
       "      <td>8000.0</td>\n",
       "      <td>4000000.0</td>\n",
       "      <td>POLYGON ((805013.405 1319634.767, 804993.600 1...</td>\n",
       "    </tr>\n",
       "    <tr>\n",
       "      <th>1</th>\n",
       "      <td>2</td>\n",
       "      <td>0</td>\n",
       "      <td>1000.0</td>\n",
       "      <td>2</td>\n",
       "      <td>8000.0</td>\n",
       "      <td>4000000.0</td>\n",
       "      <td>POLYGON ((812190.703 1329152.777, 812170.288 1...</td>\n",
       "    </tr>\n",
       "    <tr>\n",
       "      <th>2</th>\n",
       "      <td>3</td>\n",
       "      <td>0</td>\n",
       "      <td>1000.0</td>\n",
       "      <td>3</td>\n",
       "      <td>8000.0</td>\n",
       "      <td>4000000.0</td>\n",
       "      <td>POLYGON ((813915.694 1313172.060, 813895.409 1...</td>\n",
       "    </tr>\n",
       "    <tr>\n",
       "      <th>3</th>\n",
       "      <td>4</td>\n",
       "      <td>0</td>\n",
       "      <td>1000.0</td>\n",
       "      <td>4</td>\n",
       "      <td>8000.0</td>\n",
       "      <td>4000000.0</td>\n",
       "      <td>POLYGON ((799407.107 1316341.060, 799387.715 1...</td>\n",
       "    </tr>\n",
       "    <tr>\n",
       "      <th>4</th>\n",
       "      <td>5</td>\n",
       "      <td>0</td>\n",
       "      <td>1000.0</td>\n",
       "      <td>5</td>\n",
       "      <td>8000.0</td>\n",
       "      <td>4000000.0</td>\n",
       "      <td>POLYGON ((824777.183 1338337.048, 824755.800 1...</td>\n",
       "    </tr>\n",
       "    <tr>\n",
       "      <th>5</th>\n",
       "      <td>6</td>\n",
       "      <td>0</td>\n",
       "      <td>1000.0</td>\n",
       "      <td>6</td>\n",
       "      <td>8000.0</td>\n",
       "      <td>4000000.0</td>\n",
       "      <td>POLYGON ((795373.011 1302042.460, 795354.085 1...</td>\n",
       "    </tr>\n",
       "    <tr>\n",
       "      <th>6</th>\n",
       "      <td>7</td>\n",
       "      <td>0</td>\n",
       "      <td>1000.0</td>\n",
       "      <td>7</td>\n",
       "      <td>8000.0</td>\n",
       "      <td>4000000.0</td>\n",
       "      <td>POLYGON ((816039.879 1337402.312, 816019.086 1...</td>\n",
       "    </tr>\n",
       "    <tr>\n",
       "      <th>7</th>\n",
       "      <td>8</td>\n",
       "      <td>0</td>\n",
       "      <td>1000.0</td>\n",
       "      <td>8</td>\n",
       "      <td>8000.0</td>\n",
       "      <td>4000000.0</td>\n",
       "      <td>POLYGON ((794982.292 1308160.752, 794963.303 1...</td>\n",
       "    </tr>\n",
       "    <tr>\n",
       "      <th>8</th>\n",
       "      <td>9</td>\n",
       "      <td>0</td>\n",
       "      <td>1000.0</td>\n",
       "      <td>9</td>\n",
       "      <td>8000.0</td>\n",
       "      <td>4000000.0</td>\n",
       "      <td>POLYGON ((823037.522 1311360.950, 823016.676 1...</td>\n",
       "    </tr>\n",
       "    <tr>\n",
       "      <th>9</th>\n",
       "      <td>10</td>\n",
       "      <td>0</td>\n",
       "      <td>1000.0</td>\n",
       "      <td>10</td>\n",
       "      <td>8000.0</td>\n",
       "      <td>4000000.0</td>\n",
       "      <td>POLYGON ((790941.540 1328516.559, 790922.525 1...</td>\n",
       "    </tr>\n",
       "    <tr>\n",
       "      <th>10</th>\n",
       "      <td>11</td>\n",
       "      <td>0</td>\n",
       "      <td>1000.0</td>\n",
       "      <td>11</td>\n",
       "      <td>8000.0</td>\n",
       "      <td>4000000.0</td>\n",
       "      <td>POLYGON ((801741.702 1325085.939, 801722.030 1...</td>\n",
       "    </tr>\n",
       "    <tr>\n",
       "      <th>11</th>\n",
       "      <td>12</td>\n",
       "      <td>0</td>\n",
       "      <td>1000.0</td>\n",
       "      <td>12</td>\n",
       "      <td>8000.0</td>\n",
       "      <td>4000000.0</td>\n",
       "      <td>POLYGON ((805280.256 1311513.838, 805260.554 1...</td>\n",
       "    </tr>\n",
       "    <tr>\n",
       "      <th>12</th>\n",
       "      <td>13</td>\n",
       "      <td>0</td>\n",
       "      <td>1000.0</td>\n",
       "      <td>13</td>\n",
       "      <td>8000.0</td>\n",
       "      <td>4000000.0</td>\n",
       "      <td>POLYGON ((795955.100 1330083.981, 795935.734 1...</td>\n",
       "    </tr>\n",
       "    <tr>\n",
       "      <th>13</th>\n",
       "      <td>14</td>\n",
       "      <td>0</td>\n",
       "      <td>1000.0</td>\n",
       "      <td>14</td>\n",
       "      <td>8000.0</td>\n",
       "      <td>4000000.0</td>\n",
       "      <td>POLYGON ((820165.117 1324635.532, 820144.250 1...</td>\n",
       "    </tr>\n",
       "    <tr>\n",
       "      <th>14</th>\n",
       "      <td>15</td>\n",
       "      <td>0</td>\n",
       "      <td>1000.0</td>\n",
       "      <td>15</td>\n",
       "      <td>8000.0</td>\n",
       "      <td>4000000.0</td>\n",
       "      <td>POLYGON ((826926.470 1302364.523, 826905.515 1...</td>\n",
       "    </tr>\n",
       "  </tbody>\n",
       "</table>\n",
       "</div>"
      ],
      "text/plain": [
       "    OBJECTID  CID  BUFF_DIST  ORIG_FID  Shape_Leng  Shape_Area  \\\n",
       "0          1    0     1000.0         1      8000.0   4000000.0   \n",
       "1          2    0     1000.0         2      8000.0   4000000.0   \n",
       "2          3    0     1000.0         3      8000.0   4000000.0   \n",
       "3          4    0     1000.0         4      8000.0   4000000.0   \n",
       "4          5    0     1000.0         5      8000.0   4000000.0   \n",
       "5          6    0     1000.0         6      8000.0   4000000.0   \n",
       "6          7    0     1000.0         7      8000.0   4000000.0   \n",
       "7          8    0     1000.0         8      8000.0   4000000.0   \n",
       "8          9    0     1000.0         9      8000.0   4000000.0   \n",
       "9         10    0     1000.0        10      8000.0   4000000.0   \n",
       "10        11    0     1000.0        11      8000.0   4000000.0   \n",
       "11        12    0     1000.0        12      8000.0   4000000.0   \n",
       "12        13    0     1000.0        13      8000.0   4000000.0   \n",
       "13        14    0     1000.0        14      8000.0   4000000.0   \n",
       "14        15    0     1000.0        15      8000.0   4000000.0   \n",
       "\n",
       "                                             geometry  \n",
       "0   POLYGON ((805013.405 1319634.767, 804993.600 1...  \n",
       "1   POLYGON ((812190.703 1329152.777, 812170.288 1...  \n",
       "2   POLYGON ((813915.694 1313172.060, 813895.409 1...  \n",
       "3   POLYGON ((799407.107 1316341.060, 799387.715 1...  \n",
       "4   POLYGON ((824777.183 1338337.048, 824755.800 1...  \n",
       "5   POLYGON ((795373.011 1302042.460, 795354.085 1...  \n",
       "6   POLYGON ((816039.879 1337402.312, 816019.086 1...  \n",
       "7   POLYGON ((794982.292 1308160.752, 794963.303 1...  \n",
       "8   POLYGON ((823037.522 1311360.950, 823016.676 1...  \n",
       "9   POLYGON ((790941.540 1328516.559, 790922.525 1...  \n",
       "10  POLYGON ((801741.702 1325085.939, 801722.030 1...  \n",
       "11  POLYGON ((805280.256 1311513.838, 805260.554 1...  \n",
       "12  POLYGON ((795955.100 1330083.981, 795935.734 1...  \n",
       "13  POLYGON ((820165.117 1324635.532, 820144.250 1...  \n",
       "14  POLYGON ((826926.470 1302364.523, 826905.515 1...  "
      ]
     },
     "execution_count": 5,
     "metadata": {},
     "output_type": "execute_result"
    }
   ],
   "source": [
    "trainingArea"
   ]
  },
  {
   "cell_type": "code",
   "execution_count": 6,
   "metadata": {
    "tags": []
   },
   "outputs": [],
   "source": [
    "# Assign serial IDs to training areas and polygons\n",
    "trainingArea[\"id\"] = range(trainingArea.shape[0])\n",
    "trainingPolygon[\"id\"] = range(trainingPolygon.shape[0])"
   ]
  },
  {
   "cell_type": "code",
   "execution_count": 7,
   "metadata": {},
   "outputs": [
    {
     "data": {
      "application/vnd.jupyter.widget-view+json": {
       "model_id": "411fccb0593f4c95818ea6b6fa144e1e",
       "version_major": 2,
       "version_minor": 0
      },
      "text/plain": [
       "  0%|          | 0/15 [00:00<?, ?it/s]"
      ]
     },
     "metadata": {},
     "output_type": "display_data"
    },
    {
     "data": {
      "application/vnd.jupyter.widget-view+json": {
       "model_id": "df2fea9c06a44bae8abefa11a5b13847",
       "version_major": 2,
       "version_minor": 0
      },
      "text/plain": [
       "  0%|          | 0/131 [00:00<?, ?it/s]"
      ]
     },
     "metadata": {},
     "output_type": "display_data"
    },
    {
     "data": {
      "application/vnd.jupyter.widget-view+json": {
       "model_id": "c87268fc3a7346ebac6941d2f3d7e272",
       "version_major": 2,
       "version_minor": 0
      },
      "text/plain": [
       "  0%|          | 0/115 [00:00<?, ?it/s]"
      ]
     },
     "metadata": {},
     "output_type": "display_data"
    },
    {
     "data": {
      "application/vnd.jupyter.widget-view+json": {
       "model_id": "1d69a368725b419b9cf0d540d6f9e6a0",
       "version_major": 2,
       "version_minor": 0
      },
      "text/plain": [
       "  0%|          | 0/364 [00:00<?, ?it/s]"
      ]
     },
     "metadata": {},
     "output_type": "display_data"
    },
    {
     "data": {
      "application/vnd.jupyter.widget-view+json": {
       "model_id": "5312db46f92d41b88e34f702b6f11aaf",
       "version_major": 2,
       "version_minor": 0
      },
      "text/plain": [
       "  0%|          | 0/80 [00:00<?, ?it/s]"
      ]
     },
     "metadata": {},
     "output_type": "display_data"
    }
   ],
   "source": [
    "# areasWithPolygons contains the object polygons and weighted boundaries for each area!\n",
    "areas_with_polygons = pre.dividePolygonsInTrainingAreas(trainingPolygon, trainingArea)"
   ]
  },
  {
   "cell_type": "code",
   "execution_count": 8,
   "metadata": {},
   "outputs": [
    {
     "name": "stdout",
     "output_type": "stream",
     "text": [
      "Warning: path_to_write is not empty! The old files in the directory may not be overwritten!!\n",
      "Found a total of 3 pair of raw image(s) to process!\n"
     ]
    }
   ],
   "source": [
    "config = reload(Preprocessing).Configuration()\n",
    "input_images = pre.read_input_images(\n",
    "    config.raw_image_base_dir,\n",
    "    config.raw_image_file_type,\n",
    "    config.raw_image_suffix,\n",
    ")\n",
    "print(f\"Found a total of {len(input_images)} pair of raw image(s) to process!\")"
   ]
  },
  {
   "cell_type": "code",
   "execution_count": 9,
   "metadata": {},
   "outputs": [],
   "source": [
    "import rasterio as rio\n",
    "from shapely.geometry import box\n",
    "import matplotlib.pyplot as plt \n",
    "from pathlib import Path"
   ]
  },
  {
   "cell_type": "code",
   "execution_count": 10,
   "metadata": {},
   "outputs": [
    {
     "name": "stdout",
     "output_type": "stream",
     "text": [
      "Warning: path_to_write is not empty! The old files in the directory may not be overwritten!!\n",
      "Warning: path_to_write is not empty! The old files in the directory may not be overwritten!!\n"
     ]
    }
   ],
   "source": [
    "pre = reload(pre)\n",
    "config = reload(Preprocessing).Configuration()"
   ]
  },
  {
   "cell_type": "code",
   "execution_count": 11,
   "metadata": {},
   "outputs": [
    {
     "data": {
      "text/plain": [
       "{'20220105_100150_83_2421_3B_AnalyticMS_SR_harmonized_clip.tif': [0,\n",
       "  1,\n",
       "  10,\n",
       "  12],\n",
       " '20220105_112943_72_1058_3B_AnalyticMS_SR_harmonized_clip.tif': [2],\n",
       " '20220105_100155_43_2421_3B_AnalyticMS_SR_harmonized_clip.tif': [2, 7, 11]}"
      ]
     },
     "execution_count": 11,
     "metadata": {},
     "output_type": "execute_result"
    }
   ],
   "source": [
    "# Run the main function for extracting part of ndvi and \n",
    "# pan images that overlap with training areas\n",
    "pre.findOverlap(\n",
    "    input_images,\n",
    "    areas_with_polygons,\n",
    "    config.path_to_write,\n",
    "    config.extracted_bands_folder,\n",
    "    config.extracted_annotation_folder,\n",
    "    config.extracted_boundary_folder,\n",
    "    config.bands,\n",
    ")"
   ]
  },
  {
   "cell_type": "code",
   "execution_count": null,
   "metadata": {},
   "outputs": [],
   "source": [
    "# Display extracted image\n",
    "sampleImage = \"_0.png\"\n",
    "fn = config.path_to_write/config.extracted_ndvi_filename/sampleImage\n",
    "\n",
    "ndvi_img = Image.open(fn)\n",
    "pan_img = Image.open(\n",
    "    fn.replace(config.extracted_ndvi_filename, config.extracted_pan_filename)\n",
    ")\n",
    "read_ndvi_img = np.array(ndvi_img)\n",
    "read_pan_img = np.array(pan_img)\n",
    "annotation_im = Image.open(\n",
    "    fn.replace(config.extracted_ndvi_filename, config.extracted_annotation_filename)\n",
    ")\n",
    "read_annotation = np.array(annotation_im)\n",
    "weight_im = Image.open(\n",
    "    fn.replace(config.extracted_ndvi_filename, config.extracted_boundary_filename)\n",
    ")\n",
    "read_weight = np.array(weight_im)\n",
    "all_images = np.array([read_ndvi_img, read_pan_img, read_annotation, read_weight])\n",
    "\n",
    "display_images(np.expand_dims(np.transpose(all_images, axes=(1, 2, 0)), axis=0))\n",
    "# plt.imshow(read_weight)"
   ]
  },
  {
   "cell_type": "code",
   "execution_count": null,
   "metadata": {},
   "outputs": [],
   "source": [
    "len({3, 4, 5, 6, 8, 9, 13, 14})"
   ]
  }
 ],
 "metadata": {
  "kernelspec": {
   "display_name": "Python 3",
   "language": "python",
   "name": "python3"
  },
  "language_info": {
   "codemirror_mode": {
    "name": "ipython",
    "version": 3
   },
   "file_extension": ".py",
   "mimetype": "text/x-python",
   "name": "python",
   "nbconvert_exporter": "python",
   "pygments_lexer": "ipython3",
   "version": "3.8.10"
  }
 },
 "nbformat": 4,
 "nbformat_minor": 4
}
