{
 "cells": [
  {
   "cell_type": "code",
   "execution_count": null,
   "metadata": {},
   "outputs": [],
   "source": [
    "from importlib import reload\n",
    "import config.conf as conf\n",
    "import geopandas as gpd\n",
    "from scripts import preprocessing as pre"
   ]
  },
  {
   "cell_type": "code",
   "execution_count": null,
   "metadata": {},
   "outputs": [],
   "source": [
    "conf = reload(conf)\n",
    "config = conf.Configuration()"
   ]
  },
  {
   "cell_type": "code",
   "execution_count": null,
   "metadata": {},
   "outputs": [],
   "source": [
    "# Read the training area and training polygons\n",
    "trainingArea = gpd.read_file(config.training_area)\n",
    "trainingPolygon = gpd.read_file(config.training_polygon)\n",
    "assert trainingPolygon.crs == trainingArea.crs"
   ]
  },
  {
   "cell_type": "code",
   "execution_count": null,
   "metadata": {},
   "outputs": [],
   "source": [
    "len(trainingPolygon), len(trainingArea)"
   ]
  },
  {
   "cell_type": "code",
   "execution_count": null,
   "metadata": {
    "tags": []
   },
   "outputs": [],
   "source": [
    "# Assign serial IDs to training areas and polygons\n",
    "trainingArea[\"id\"] = range(len(trainingArea))\n",
    "trainingPolygon[\"id\"] = range(len(trainingPolygon))"
   ]
  },
  {
   "cell_type": "code",
   "execution_count": null,
   "metadata": {},
   "outputs": [],
   "source": [
    "# areasWithPolygons contains the object polygons and weighted boundaries for each area!\n",
    "areas_with_polygons = pre.dividePolygonsInTrainingAreas(trainingPolygon, trainingArea)"
   ]
  },
  {
   "cell_type": "code",
   "execution_count": null,
   "metadata": {},
   "outputs": [],
   "source": [
    "conf = reload(conf)\n",
    "config = conf.Configuration()\n",
    "input_images = pre.read_input_images(\n",
    "    config.train_image_dir,\n",
    "    config.raw_image_file_type,\n",
    "    config.raw_image_suffix,\n",
    ")\n",
    "print(f\"Found a total of {len(input_images)} pair of raw image(s) to process!\")"
   ]
  },
  {
   "cell_type": "code",
   "execution_count": null,
   "metadata": {},
   "outputs": [],
   "source": [
    "pre = reload(pre)"
   ]
  },
  {
   "cell_type": "code",
   "execution_count": null,
   "metadata": {},
   "outputs": [],
   "source": [
    "overlaps = pre.findOverlap(input_images,areas_with_polygons)"
   ]
  },
  {
   "cell_type": "code",
   "execution_count": null,
   "metadata": {},
   "outputs": [],
   "source": [
    "pre.create_annotations(overlaps, areas_with_polygons)"
   ]
  },
  {
   "cell_type": "markdown",
   "metadata": {},
   "source": [
    "### Check image dimensions.\n",
    "\n",
    "Check input image dimensions to determine a proper shape for the NN inputs. This has to be done due to different sizes in the training areas."
   ]
  },
  {
   "cell_type": "code",
   "execution_count": null,
   "metadata": {},
   "outputs": [],
   "source": [
    "dims = {img.name: {\n",
    "    \"w\":rio.open(img).profile[\"width\"],\n",
    "    \"h\":rio.open(img).profile[\"height\"],\n",
    "} for img in list(config.image_dir.glob(\"*png\"))}"
   ]
  },
  {
   "cell_type": "code",
   "execution_count": null,
   "metadata": {},
   "outputs": [],
   "source": [
    "ws = min([dim[\"w\"] for dim in dims.values()])\n",
    "hs = min([dim[\"h\"] for dim in dims.values()])\n",
    "(ws, hs)"
   ]
  },
  {
   "cell_type": "markdown",
   "metadata": {
    "jp-MarkdownHeadingCollapsed": true,
    "tags": []
   },
   "source": [
    "## Check images"
   ]
  },
  {
   "cell_type": "code",
   "execution_count": null,
   "metadata": {},
   "outputs": [],
   "source": [
    "from config import conf\n",
    "import rasterio as rio\n",
    "from shapely.geometry import box\n",
    "from core.frame_info import image_normalize\n",
    "from importlib import reload\n",
    "conf = reload(conf)\n",
    "config = conf.Configuration()"
   ]
  },
  {
   "cell_type": "code",
   "execution_count": null,
   "metadata": {},
   "outputs": [],
   "source": [
    "test_img, id_ = ['afk_mean_composite_202', 2]\n",
    "# test_img, id_ = ['afk_mean_composite_area3', 10]"
   ]
  },
  {
   "cell_type": "code",
   "execution_count": null,
   "metadata": {},
   "outputs": [],
   "source": [
    "test_image = list(config.train_image_dir.glob(f\"*{test_img}*.tif\"))[0]\n",
    "test_image"
   ]
  },
  {
   "cell_type": "code",
   "execution_count": null,
   "metadata": {},
   "outputs": [],
   "source": [
    "img = rio.open(test_image)\n",
    "profile = img.profile"
   ]
  },
  {
   "cell_type": "code",
   "execution_count": null,
   "metadata": {},
   "outputs": [],
   "source": [
    "bboxArea = box(*areas_with_polygons[id_][\"bounds\"])\n",
    "bboxImg = box(*img.bounds)\n",
    "bboxArea.intersection(bboxImg)"
   ]
  },
  {
   "cell_type": "code",
   "execution_count": null,
   "metadata": {},
   "outputs": [],
   "source": [
    "sm = rio.mask.mask(img, [bboxArea], all_touched=True, crop=True)\n",
    "profile[\"height\"] = sm[0].shape[1]\n",
    "profile[\"width\"] = sm[0].shape[2]\n",
    "profile[\"transform\"] = sm[1]\n",
    "profile[\"dtype\"] = rio.float32"
   ]
  },
  {
   "cell_type": "code",
   "execution_count": null,
   "metadata": {},
   "outputs": [],
   "source": [
    "import matplotlib.pyplot as plt  # plotting tools\n",
    "import numpy as np"
   ]
  },
  {
   "cell_type": "code",
   "execution_count": null,
   "metadata": {},
   "outputs": [],
   "source": [
    "sm[0][band].mean()"
   ]
  },
  {
   "cell_type": "code",
   "execution_count": null,
   "metadata": {},
   "outputs": [],
   "source": [
    "np.nanmean(sm[0][band])"
   ]
  },
  {
   "cell_type": "code",
   "execution_count": null,
   "metadata": {},
   "outputs": [],
   "source": [
    "np.nanstd(sm[0][band], axis=(0,1))"
   ]
  },
  {
   "cell_type": "code",
   "execution_count": null,
   "metadata": {},
   "outputs": [],
   "source": [
    "sm[0][band].std()"
   ]
  },
  {
   "cell_type": "code",
   "execution_count": null,
   "metadata": {},
   "outputs": [],
   "source": [
    "image_normalize(sm[0][band]).astype(profile[\"dtype\"]).sum()"
   ]
  },
  {
   "cell_type": "code",
   "execution_count": null,
   "metadata": {},
   "outputs": [],
   "source": [
    "with rio.open(config.out_image_dir / f\"test2.png\", \"w\", **profile) as dst:\n",
    "    for band in range(len(config.bands)):\n",
    "        norm_band = image_normalize(sm[0][band]).astype(profile[\"dtype\"])\n",
    "        dst.write(norm_band, band + 1)"
   ]
  }
 ],
 "metadata": {
  "kernelspec": {
   "display_name": "Python 3",
   "language": "python",
   "name": "python3"
  },
  "language_info": {
   "codemirror_mode": {
    "name": "ipython",
    "version": 3
   },
   "file_extension": ".py",
   "mimetype": "text/x-python",
   "name": "python",
   "nbconvert_exporter": "python",
   "pygments_lexer": "ipython3",
   "version": "3.8.10"
  }
 },
 "nbformat": 4,
 "nbformat_minor": 4
}
